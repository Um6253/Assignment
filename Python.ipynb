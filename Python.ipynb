{
  "nbformat": 4,
  "nbformat_minor": 0,
  "metadata": {
    "colab": {
      "provenance": []
    },
    "kernelspec": {
      "name": "python3",
      "display_name": "Python 3"
    },
    "language_info": {
      "name": "python"
    }
  },
  "cells": [
    {
      "cell_type": "markdown",
      "source": [
        "**CLASS 1**"
      ],
      "metadata": {
        "id": "R2OgwfDIn1jj"
      }
    },
    {
      "cell_type": "markdown",
      "source": [],
      "metadata": {
        "id": "J_CIoMzcr2-3"
      }
    },
    {
      "cell_type": "markdown",
      "source": [],
      "metadata": {
        "id": "_U1XL4kCr5Lm"
      }
    },
    {
      "cell_type": "code",
      "source": [
        "print(\"MANI IS KING\")"
      ],
      "metadata": {
        "colab": {
          "base_uri": "https://localhost:8080/"
        },
        "id": "DV9MT8Jvn9R2",
        "outputId": "eeaa0718-cd5f-4505-eed5-fd0d8bcd78c2"
      },
      "execution_count": null,
      "outputs": [
        {
          "output_type": "stream",
          "name": "stdout",
          "text": [
            "MANI IS KING\n"
          ]
        }
      ]
    },
    {
      "cell_type": "code",
      "source": [
        "name = 12345\n"
      ],
      "metadata": {
        "id": "s0Rs_ZwmqbJ0"
      },
      "execution_count": null,
      "outputs": []
    },
    {
      "cell_type": "code",
      "source": [
        "print(name)\n",
        "print(type(name))"
      ],
      "metadata": {
        "colab": {
          "base_uri": "https://localhost:8080/"
        },
        "id": "J1s02dr4qfQ7",
        "outputId": "47117725-5627-454c-e58f-26f12217db72"
      },
      "execution_count": null,
      "outputs": [
        {
          "output_type": "stream",
          "name": "stdout",
          "text": [
            "12345\n",
            "<class 'int'>\n"
          ]
        }
      ]
    },
    {
      "cell_type": "code",
      "source": [
        "num1 = 10\n",
        "num2 = 20\n",
        "print(num1+num2)"
      ],
      "metadata": {
        "colab": {
          "base_uri": "https://localhost:8080/"
        },
        "id": "oR8cHWKkqlpI",
        "outputId": "f4b2b54c-c01a-4f74-9ab5-30f9a31124e5"
      },
      "execution_count": null,
      "outputs": [
        {
          "output_type": "stream",
          "name": "stdout",
          "text": [
            "30\n"
          ]
        }
      ]
    },
    {
      "cell_type": "code",
      "source": [
        "print (type(num1))"
      ],
      "metadata": {
        "colab": {
          "base_uri": "https://localhost:8080/"
        },
        "id": "Buj4zB7Qr2dn",
        "outputId": "ebc3c1cd-4edc-4f68-e522-684c327dd58e"
      },
      "execution_count": null,
      "outputs": [
        {
          "output_type": "stream",
          "name": "stdout",
          "text": [
            "<class 'int'>\n"
          ]
        }
      ]
    },
    {
      "cell_type": "code",
      "source": [
        "\n",
        "num1= num2 + num3\n",
        "num1 = 5\n",
        "num3 = 6\n",
        "print(num2)"
      ],
      "metadata": {
        "colab": {
          "base_uri": "https://localhost:8080/"
        },
        "id": "Av8harjtsg72",
        "outputId": "4cd52a5d-c2cc-4d7c-eb60-f5aa851e1a9c"
      },
      "execution_count": null,
      "outputs": [
        {
          "output_type": "stream",
          "name": "stdout",
          "text": [
            "1.2\n"
          ]
        }
      ]
    },
    {
      "cell_type": "code",
      "source": [
        "num1 = 12\n",
        "num2 = 1.2\n",
        "a = num1%num2\n",
        "print(a)\n",
        "print(type(a))"
      ],
      "metadata": {
        "colab": {
          "base_uri": "https://localhost:8080/"
        },
        "id": "-wF4mC91t2Ky",
        "outputId": "fa19a507-dba3-4ead-92e8-3e3262289865"
      },
      "execution_count": null,
      "outputs": [
        {
          "output_type": "stream",
          "name": "stdout",
          "text": [
            "4.440892098500626e-16\n",
            "<class 'float'>\n"
          ]
        }
      ]
    },
    {
      "cell_type": "code",
      "source": [],
      "metadata": {
        "id": "lPm08CmE0KgG"
      },
      "execution_count": null,
      "outputs": []
    },
    {
      "cell_type": "markdown",
      "source": [
        "class2 "
      ],
      "metadata": {
        "id": "ULWoJuNA0MOg"
      }
    },
    {
      "cell_type": "code",
      "source": [
        "10<9"
      ],
      "metadata": {
        "colab": {
          "base_uri": "https://localhost:8080/"
        },
        "id": "LW2zjtSV0RfD",
        "outputId": "c73108f9-03a2-4302-e516-deb5690516b7"
      },
      "execution_count": null,
      "outputs": [
        {
          "output_type": "execute_result",
          "data": {
            "text/plain": [
              "False"
            ]
          },
          "metadata": {},
          "execution_count": 26
        }
      ]
    },
    {
      "cell_type": "code",
      "source": [
        "a=10\n",
        "b=20\n",
        "print(a>=b) \n"
      ],
      "metadata": {
        "colab": {
          "base_uri": "https://localhost:8080/"
        },
        "id": "6RV1CZOD0ibK",
        "outputId": "367dd7f6-952d-4900-c82a-582c7eeacab6"
      },
      "execution_count": null,
      "outputs": [
        {
          "output_type": "stream",
          "name": "stdout",
          "text": [
            "False\n"
          ]
        }
      ]
    },
    {
      "cell_type": "code",
      "source": [
        "num1 =int(input(\"num1 :\"))\n",
        "num2 =int(input(\"num2:\"))\n",
        "add = num1 +num2 - num3 *num1/num2\n",
        "print(add)"
      ],
      "metadata": {
        "colab": {
          "base_uri": "https://localhost:8080/"
        },
        "id": "bJ5SsO7903VI",
        "outputId": "ca861b38-843a-48f2-9eb3-d881df72ec01"
      },
      "execution_count": null,
      "outputs": [
        {
          "output_type": "stream",
          "name": "stdout",
          "text": [
            "num1 :7\n",
            "num2:3\n",
            "-4.0\n"
          ]
        }
      ]
    },
    {
      "cell_type": "code",
      "source": [
        "# collecction of data types\n",
        "# list - ordered collection of datatype\n",
        "#tuple\n",
        "#dictionary\n",
        "#set\n"
      ],
      "metadata": {
        "id": "mXsGiZij22De"
      },
      "execution_count": null,
      "outputs": []
    },
    {
      "cell_type": "code",
      "source": [
        "mylist=[1,2,2.3,\"DATA\",True,1,]\n",
        "mylist[3]=\"MAN\"\n",
        "print(mylist)\n",
        "mylist.append(100)\n",
        "print(mylist)\n",
        "mylist.insert(0,100)\n",
        "print(mylist)\n",
        "del mylist[-1]\n",
        "print(mylist)\n",
        "mylist.append(30)\n",
        "print(mylist)\n",
        "mylist.pop(-1)\n",
        "print(mylist)\n",
        "mylist1=[23,55,66,77,88,22,11,45,33,22]\n",
        "mylist.extend(mylist1)\n",
        "print(mylist)\n",
        "print(type(mylist))\n",
        "print( \"length=\",len(mylist))\n",
        "del mylist1\n",
        "print(mylist)"
      ],
      "metadata": {
        "colab": {
          "base_uri": "https://localhost:8080/"
        },
        "id": "xmJd71YM34qh",
        "outputId": "d285b5f7-bca2-412e-debc-b0ff9cb35987"
      },
      "execution_count": null,
      "outputs": [
        {
          "output_type": "stream",
          "name": "stdout",
          "text": [
            "[1, 2, 2.3, 'MAN', True, 1]\n",
            "[1, 2, 2.3, 'MAN', True, 1, 100]\n",
            "[100, 1, 2, 2.3, 'MAN', True, 1, 100]\n",
            "[100, 1, 2, 2.3, 'MAN', True, 1]\n",
            "[100, 1, 2, 2.3, 'MAN', True, 1, 30]\n",
            "[100, 1, 2, 2.3, 'MAN', True, 1]\n",
            "[100, 1, 2, 2.3, 'MAN', True, 1, 23, 55, 66, 77, 88, 22, 11, 45, 33, 22]\n",
            "<class 'list'>\n",
            "length= 17\n",
            "[100, 1, 2, 2.3, 'MAN', True, 1, 23, 55, 66, 77, 88, 22, 11, 45, 33, 22]\n"
          ]
        }
      ]
    },
    {
      "cell_type": "code",
      "source": [
        "a =(12,1.2,\"date\",True)\n",
        "print(a)\n",
        "\n"
      ],
      "metadata": {
        "colab": {
          "base_uri": "https://localhost:8080/"
        },
        "id": "s19WmT1FAP9e",
        "outputId": "e892680b-d7c6-4dd0-d8c7-7648095906fc"
      },
      "execution_count": null,
      "outputs": [
        {
          "output_type": "stream",
          "name": "stdout",
          "text": [
            "(12, 1.2, 'date', True)\n"
          ]
        }
      ]
    },
    {
      "cell_type": "markdown",
      "source": [
        "**Class 3**"
      ],
      "metadata": {
        "id": "jHbpwOYosqdu"
      }
    },
    {
      "cell_type": "code",
      "source": [
        "#DIctionary\n",
        "mydic = {\n",
        "    \"username\":\"admin\",\n",
        "         \"password\":123,\n",
        "         \"Brand\":\"Dell\"\n",
        " }\n",
        "mydic['password']=12333\n",
        "print(mydic[\"password\"])\n",
        "mydic[\"kaki\"]=12345\n",
        "mydic.pop(\"Brand\")\n",
        "print(mydic)\n"
      ],
      "metadata": {
        "colab": {
          "base_uri": "https://localhost:8080/"
        },
        "id": "a9io17hCsm49",
        "outputId": "3ca062aa-58c7-498d-8655-2b498ffabd21"
      },
      "execution_count": null,
      "outputs": [
        {
          "output_type": "stream",
          "name": "stdout",
          "text": [
            "12333\n",
            "{'username': 'admin', 'password': 12333, 'kaki': 12345}\n"
          ]
        }
      ]
    },
    {
      "cell_type": "code",
      "source": [
        "#set\n",
        "myset = {1,2,3,4,5,11,5,5,3}\n",
        "print(myset)\n",
        "myset.add(100)\n",
        "print(myset)\n",
        "myset.remove(5)\n",
        "print(myset)\n",
        "set1 = {11,22,33,44,1}\n",
        "set2 = {44,55,66,1}\n",
        "set3 = {77,88,99,44,1}\n",
        "myset =set1|set2|set3\n",
        "print(myset)\n",
        "myset= set1.intersection(set2)\n",
        "print(myset)\n",
        "myset =set1&set2&set3\n",
        "print(myset)\n"
      ],
      "metadata": {
        "colab": {
          "base_uri": "https://localhost:8080/"
        },
        "id": "6xy1IxVruzKt",
        "outputId": "2f1b3ba0-9ba8-447c-ca87-8611952d13a2"
      },
      "execution_count": null,
      "outputs": [
        {
          "output_type": "stream",
          "name": "stdout",
          "text": [
            "{1, 2, 3, 4, 5, 11}\n",
            "{1, 2, 3, 4, 5, 100, 11}\n",
            "{1, 2, 3, 4, 100, 11}\n",
            "{33, 1, 66, 99, 11, 44, 77, 22, 55, 88}\n",
            "{1, 44}\n",
            "{1, 44}\n"
          ]
        }
      ]
    },
    {
      "cell_type": "code",
      "source": [
        "a=frozenset([\"e\",\"f\"])\n",
        "print(a)\n",
        "a.add(\"g\")\n",
        "print(a)"
      ],
      "metadata": {
        "colab": {
          "base_uri": "https://localhost:8080/",
          "height": 235
        },
        "id": "48aK5Ma0EnB7",
        "outputId": "5174fa08-8619-44e3-ec5d-2b6b85ce78cf"
      },
      "execution_count": null,
      "outputs": [
        {
          "output_type": "stream",
          "name": "stdout",
          "text": [
            "frozenset({'e', 'f'})\n"
          ]
        },
        {
          "output_type": "error",
          "ename": "AttributeError",
          "evalue": "ignored",
          "traceback": [
            "\u001b[0;31m---------------------------------------------------------------------------\u001b[0m",
            "\u001b[0;31mAttributeError\u001b[0m                            Traceback (most recent call last)",
            "\u001b[0;32m<ipython-input-44-36159faa7d2a>\u001b[0m in \u001b[0;36m<module>\u001b[0;34m\u001b[0m\n\u001b[1;32m      1\u001b[0m \u001b[0ma\u001b[0m\u001b[0;34m=\u001b[0m\u001b[0mfrozenset\u001b[0m\u001b[0;34m(\u001b[0m\u001b[0;34m[\u001b[0m\u001b[0;34m\"e\"\u001b[0m\u001b[0;34m,\u001b[0m\u001b[0;34m\"f\"\u001b[0m\u001b[0;34m]\u001b[0m\u001b[0;34m)\u001b[0m\u001b[0;34m\u001b[0m\u001b[0;34m\u001b[0m\u001b[0m\n\u001b[1;32m      2\u001b[0m \u001b[0mprint\u001b[0m\u001b[0;34m(\u001b[0m\u001b[0ma\u001b[0m\u001b[0;34m)\u001b[0m\u001b[0;34m\u001b[0m\u001b[0;34m\u001b[0m\u001b[0m\n\u001b[0;32m----> 3\u001b[0;31m \u001b[0ma\u001b[0m\u001b[0;34m.\u001b[0m\u001b[0madd\u001b[0m\u001b[0;34m(\u001b[0m\u001b[0;34m\"g\"\u001b[0m\u001b[0;34m)\u001b[0m\u001b[0;34m\u001b[0m\u001b[0;34m\u001b[0m\u001b[0m\n\u001b[0m\u001b[1;32m      4\u001b[0m \u001b[0mprint\u001b[0m\u001b[0;34m(\u001b[0m\u001b[0ma\u001b[0m\u001b[0;34m)\u001b[0m\u001b[0;34m\u001b[0m\u001b[0;34m\u001b[0m\u001b[0m\n",
            "\u001b[0;31mAttributeError\u001b[0m: 'frozenset' object has no attribute 'add'"
          ]
        }
      ]
    },
    {
      "cell_type": "code",
      "source": [
        "#FUNCTION\n",
        "print(\"hellow\")\n",
        "print(\"hi\")"
      ],
      "metadata": {
        "colab": {
          "base_uri": "https://localhost:8080/"
        },
        "id": "U12sV7IGF_3b",
        "outputId": "ce760db7-0695-4496-9422-b0d9cd0a2f6a"
      },
      "execution_count": null,
      "outputs": [
        {
          "output_type": "stream",
          "name": "stdout",
          "text": [
            "hellow\n",
            "hi\n"
          ]
        }
      ]
    },
    {
      "cell_type": "code",
      "source": [
        "def a():\n",
        "  print(\"hellow\")\n",
        "  print(\"hi\")\n",
        "  a()\n",
        "  a()\n"
      ],
      "metadata": {
        "id": "i4pCPI4yGl_Q"
      },
      "execution_count": null,
      "outputs": []
    },
    {
      "cell_type": "code",
      "source": [
        "def a():\n",
        "  print(\"hellow\")\n",
        "  print(\"hi\")\n",
        "\n",
        "a()\n",
        "a()\n",
        "a()\n",
        "a()\n",
        "a()\n",
        "a()\n",
        "\n",
        "\n"
      ],
      "metadata": {
        "colab": {
          "base_uri": "https://localhost:8080/"
        },
        "id": "CWoc4XOZHCFK",
        "outputId": "7c2f84c5-ac07-4fa7-eb74-9eacc09ca180"
      },
      "execution_count": null,
      "outputs": [
        {
          "output_type": "stream",
          "name": "stdout",
          "text": [
            "hellow\n",
            "hi\n",
            "hellow\n",
            "hi\n",
            "hellow\n",
            "hi\n",
            "hellow\n",
            "hi\n",
            "hellow\n",
            "hi\n",
            "hellow\n",
            "hi\n"
          ]
        }
      ]
    },
    {
      "cell_type": "code",
      "source": [
        "def name():\n",
        "  a=\"tom\"\n",
        "  print (\"my\",a)\n",
        "name()\n",
        "name()\n",
        "name()\n",
        "name()\n",
        "name()"
      ],
      "metadata": {
        "colab": {
          "base_uri": "https://localhost:8080/"
        },
        "id": "g_0kJ7BIIPMS",
        "outputId": "085a983a-cd2d-4af5-cb5f-946595afdb87"
      },
      "execution_count": null,
      "outputs": [
        {
          "output_type": "stream",
          "name": "stdout",
          "text": [
            "my tom\n",
            "my tom\n",
            "my tom\n",
            "my tom\n",
            "my tom\n"
          ]
        }
      ]
    },
    {
      "cell_type": "code",
      "source": [
        "def add(num1,num2):\n",
        " \n",
        " print(\"sum :\",num1+num2)\n",
        "add(6,7)\n",
        "add(2,4)\n",
        "add(20,4)"
      ],
      "metadata": {
        "id": "yEBSdM3SJF4m",
        "colab": {
          "base_uri": "https://localhost:8080/"
        },
        "outputId": "ac66a3c3-bc1f-47f9-c951-1a948766dbe3"
      },
      "execution_count": 1,
      "outputs": [
        {
          "output_type": "stream",
          "name": "stdout",
          "text": [
            "sum : 13\n",
            "sum : 6\n",
            "sum : 24\n"
          ]
        }
      ]
    },
    {
      "cell_type": "markdown",
      "source": [
        "CLASS 4"
      ],
      "metadata": {
        "id": "c8I0GsApIJXT"
      }
    },
    {
      "cell_type": "code",
      "source": [
        "def a():\n",
        "  num1=int(input(\"num1:\"))\n",
        "  num21=int(input(\"num2:\"))\n",
        "  print(\"totat = \",(num1+num2))\n",
        "a()"
      ],
      "metadata": {
        "colab": {
          "base_uri": "https://localhost:8080/"
        },
        "id": "1cGpRZl4IPA8",
        "outputId": "615b0997-4700-436b-d50c-b4057b35261d"
      },
      "execution_count": 6,
      "outputs": [
        {
          "output_type": "stream",
          "name": "stdout",
          "text": [
            "num1:10\n",
            "num2:100\n",
            "totat =  110\n"
          ]
        }
      ]
    },
    {
      "cell_type": "code",
      "source": [
        "#Iterators \n",
        "#iter and next\n",
        "list1=[\"my\",\"name\",\"is\",\"MR\",\"MANI\"]\n",
        "print(list1)"
      ],
      "metadata": {
        "colab": {
          "base_uri": "https://localhost:8080/"
        },
        "id": "aOt-I25gKIX5",
        "outputId": "60f2f880-5102-4646-e0b1-5501eaf8698e"
      },
      "execution_count": 20,
      "outputs": [
        {
          "output_type": "stream",
          "name": "stdout",
          "text": [
            "['my', 'name', 'is', 'MR', 'MANI']\n"
          ]
        }
      ]
    },
    {
      "cell_type": "code",
      "source": [
        "myiteration = iter(list1)\n",
        "\n",
        "\n"
      ],
      "metadata": {
        "id": "IPAAQt-LKyL0"
      },
      "execution_count": 29,
      "outputs": []
    },
    {
      "cell_type": "code",
      "source": [
        "print(next(myiteration))"
      ],
      "metadata": {
        "colab": {
          "base_uri": "https://localhost:8080/"
        },
        "id": "-yWJlCDoLrIO",
        "outputId": "17626dcb-fc2b-492c-a770-1e8b202757e3"
      },
      "execution_count": 30,
      "outputs": [
        {
          "output_type": "stream",
          "name": "stdout",
          "text": [
            "my\n"
          ]
        }
      ]
    },
    {
      "cell_type": "code",
      "source": [
        "def a():\n",
        "  \n",
        "    name=input(\"n\")\n",
        "    for x in range(10):\n",
        "      print(\"Hello\",name)\n",
        "a()"
      ],
      "metadata": {
        "colab": {
          "base_uri": "https://localhost:8080/"
        },
        "id": "m3ruWwOCMZ4z",
        "outputId": "45bb91c7-43f3-45c8-eb5d-c78ea7a52fc4"
      },
      "execution_count": 54,
      "outputs": [
        {
          "output_type": "stream",
          "name": "stdout",
          "text": [
            "nmani\n",
            "Hello mani\n",
            "Hello mani\n",
            "Hello mani\n",
            "Hello mani\n",
            "Hello mani\n",
            "Hello mani\n",
            "Hello mani\n",
            "Hello mani\n",
            "Hello mani\n",
            "Hello mani\n"
          ]
        }
      ]
    },
    {
      "cell_type": "code",
      "source": [],
      "metadata": {
        "id": "ljedR2vWNDGQ"
      },
      "execution_count": null,
      "outputs": []
    },
    {
      "cell_type": "code",
      "source": [
        "#for loop -> print the data one by one after the other\n",
        "list1=[1,34,54,23,22,45]\n",
        "for x in list1:\n",
        "  print(\"the values\",x)"
      ],
      "metadata": {
        "colab": {
          "base_uri": "https://localhost:8080/"
        },
        "id": "S6hYjEkZM8mb",
        "outputId": "e3b8a570-b12e-4cee-a1b0-3a58df2b935b"
      },
      "execution_count": 45,
      "outputs": [
        {
          "output_type": "stream",
          "name": "stdout",
          "text": [
            "the values 1\n",
            "the values 34\n",
            "the values 54\n",
            "the values 23\n",
            "the values 22\n",
            "the values 45\n"
          ]
        }
      ]
    },
    {
      "cell_type": "code",
      "source": [
        "for x in range(10,50):\n",
        "  print(\"the \",x,\"is\",x**2,\"yup\",10+x**2)"
      ],
      "metadata": {
        "colab": {
          "base_uri": "https://localhost:8080/"
        },
        "id": "DrX11oaQSzRQ",
        "outputId": "e3a6c5af-fd4e-4d49-f543-d51dfd35e5a1"
      },
      "execution_count": 60,
      "outputs": [
        {
          "output_type": "stream",
          "name": "stdout",
          "text": [
            "the  10 is 100 yup 110\n",
            "the  11 is 121 yup 131\n",
            "the  12 is 144 yup 154\n",
            "the  13 is 169 yup 179\n",
            "the  14 is 196 yup 206\n",
            "the  15 is 225 yup 235\n",
            "the  16 is 256 yup 266\n",
            "the  17 is 289 yup 299\n",
            "the  18 is 324 yup 334\n",
            "the  19 is 361 yup 371\n",
            "the  20 is 400 yup 410\n",
            "the  21 is 441 yup 451\n",
            "the  22 is 484 yup 494\n",
            "the  23 is 529 yup 539\n",
            "the  24 is 576 yup 586\n",
            "the  25 is 625 yup 635\n",
            "the  26 is 676 yup 686\n",
            "the  27 is 729 yup 739\n",
            "the  28 is 784 yup 794\n",
            "the  29 is 841 yup 851\n",
            "the  30 is 900 yup 910\n",
            "the  31 is 961 yup 971\n",
            "the  32 is 1024 yup 1034\n",
            "the  33 is 1089 yup 1099\n",
            "the  34 is 1156 yup 1166\n",
            "the  35 is 1225 yup 1235\n",
            "the  36 is 1296 yup 1306\n",
            "the  37 is 1369 yup 1379\n",
            "the  38 is 1444 yup 1454\n",
            "the  39 is 1521 yup 1531\n",
            "the  40 is 1600 yup 1610\n",
            "the  41 is 1681 yup 1691\n",
            "the  42 is 1764 yup 1774\n",
            "the  43 is 1849 yup 1859\n",
            "the  44 is 1936 yup 1946\n",
            "the  45 is 2025 yup 2035\n",
            "the  46 is 2116 yup 2126\n",
            "the  47 is 2209 yup 2219\n",
            "the  48 is 2304 yup 2314\n",
            "the  49 is 2401 yup 2411\n"
          ]
        }
      ]
    },
    {
      "cell_type": "code",
      "source": [
        "#Module\n",
        "import math\n",
        "print(math.sin(45))"
      ],
      "metadata": {
        "colab": {
          "base_uri": "https://localhost:8080/"
        },
        "id": "JtIbuAXVVhKp",
        "outputId": "f6a12fa8-9712-4cf7-ce83-4bb8238c63a6"
      },
      "execution_count": 62,
      "outputs": [
        {
          "output_type": "stream",
          "name": "stdout",
          "text": [
            "0.8509035245341184\n"
          ]
        }
      ]
    },
    {
      "cell_type": "code",
      "source": [
        "print(math.factorial(4))"
      ],
      "metadata": {
        "colab": {
          "base_uri": "https://localhost:8080/"
        },
        "id": "yATtQd0SZU7w",
        "outputId": "17b85fb8-e834-4da4-cf2c-ab55f47e6e9d"
      },
      "execution_count": 64,
      "outputs": [
        {
          "output_type": "stream",
          "name": "stdout",
          "text": [
            "24\n"
          ]
        }
      ]
    },
    {
      "cell_type": "code",
      "source": [
        "print(math.sqrt(4))"
      ],
      "metadata": {
        "colab": {
          "base_uri": "https://localhost:8080/"
        },
        "id": "1NVEK-YUZn3c",
        "outputId": "d69b8aa0-5335-485b-c7bf-0e1263d80320"
      },
      "execution_count": 67,
      "outputs": [
        {
          "output_type": "stream",
          "name": "stdout",
          "text": [
            "2.0\n"
          ]
        }
      ]
    },
    {
      "cell_type": "code",
      "source": [
        "#date\n",
        "import datetime\n",
        "x=datetime.datetime.now()\n",
        "print(x)"
      ],
      "metadata": {
        "colab": {
          "base_uri": "https://localhost:8080/"
        },
        "id": "UGXmOqKvZ1FW",
        "outputId": "9a94aac5-51cf-439d-ac79-943408e6d8e9"
      },
      "execution_count": 69,
      "outputs": [
        {
          "output_type": "stream",
          "name": "stdout",
          "text": [
            "2023-03-02 17:42:53.897708\n"
          ]
        }
      ]
    },
    {
      "cell_type": "code",
      "source": [
        "import random\n",
        "print(random.randint(0,5))"
      ],
      "metadata": {
        "colab": {
          "base_uri": "https://localhost:8080/"
        },
        "id": "s_lkh19ja7SK",
        "outputId": "43b6f19a-5a6f-4ffe-e9d4-fecbe3b0b2fd"
      },
      "execution_count": 73,
      "outputs": [
        {
          "output_type": "stream",
          "name": "stdout",
          "text": [
            "4\n"
          ]
        }
      ]
    },
    {
      "cell_type": "code",
      "source": [
        "list = [12,\"love\",True,5.4]\n",
        "print(random.choice(list))"
      ],
      "metadata": {
        "colab": {
          "base_uri": "https://localhost:8080/"
        },
        "id": "VUEi0wWob14L",
        "outputId": "7d38d64a-8e19-4ff4-ae7d-c9f7d9817195"
      },
      "execution_count": 79,
      "outputs": [
        {
          "output_type": "stream",
          "name": "stdout",
          "text": [
            "love\n"
          ]
        }
      ]
    },
    {
      "cell_type": "code",
      "source": [
        "# slicing \n",
        "s=\"MANIKANTA\"\n",
        "print(s[0:4])"
      ],
      "metadata": {
        "colab": {
          "base_uri": "https://localhost:8080/"
        },
        "id": "Zm93ecNccwy0",
        "outputId": "12dcece2-4650-4a2d-e359-937cfc3422ed"
      },
      "execution_count": 80,
      "outputs": [
        {
          "output_type": "stream",
          "name": "stdout",
          "text": [
            "MANI\n"
          ]
        }
      ]
    },
    {
      "cell_type": "markdown",
      "source": [
        "CLASS 5"
      ],
      "metadata": {
        "id": "5CWym4VrkGy_"
      }
    },
    {
      "cell_type": "code",
      "source": [
        "# files\n",
        "#Read Mode\n",
        "#Write Mode \n",
        "#Append Mode"
      ],
      "metadata": {
        "id": "BClf8CNekKVL"
      },
      "execution_count": 81,
      "outputs": []
    },
    {
      "cell_type": "code",
      "source": [
        "myfile=open(\"a.txt\",\"r\")\n",
        "print(myfile.read())"
      ],
      "metadata": {
        "colab": {
          "base_uri": "https://localhost:8080/"
        },
        "id": "CbRjVOKsmlml",
        "outputId": "39c7da65-9e54-41ca-d3b1-e4d1735e0831"
      },
      "execution_count": 83,
      "outputs": [
        {
          "output_type": "stream",
          "name": "stdout",
          "text": [
            "MY LIFE AND ONLY MY LIFE\n"
          ]
        }
      ]
    },
    {
      "cell_type": "code",
      "source": [
        "myfile.close()"
      ],
      "metadata": {
        "id": "ntacg9kppYoC"
      },
      "execution_count": 109,
      "outputs": []
    },
    {
      "cell_type": "code",
      "source": [
        "myfile=open(\"a.txt\",\"w\")\n",
        "print(myfile.write(\"This is no ur life \\n\"))"
      ],
      "metadata": {
        "colab": {
          "base_uri": "https://localhost:8080/"
        },
        "id": "Cy47CnAvpSi6",
        "outputId": "293915a1-a995-4df9-c32e-7c590ed6c2d2"
      },
      "execution_count": 110,
      "outputs": [
        {
          "output_type": "stream",
          "name": "stdout",
          "text": [
            "20\n"
          ]
        }
      ]
    },
    {
      "cell_type": "code",
      "source": [
        "myfile=open(\"a.txt\",\"r\")\n",
        "print(myfile.read())"
      ],
      "metadata": {
        "colab": {
          "base_uri": "https://localhost:8080/"
        },
        "id": "j-cXRZ34pz5Z",
        "outputId": "f0035776-743c-472c-93a1-23150fa8f00b"
      },
      "execution_count": 122,
      "outputs": [
        {
          "output_type": "stream",
          "name": "stdout",
          "text": [
            "This is no ur life \n",
            "This is my life \n",
            "This is my life \n",
            "This is my life \n",
            "\n"
          ]
        }
      ]
    },
    {
      "cell_type": "code",
      "source": [
        "myfile=open(\"a.txt\",\"a\")\n",
        "myfile.write(\"This is my life \\n\")"
      ],
      "metadata": {
        "colab": {
          "base_uri": "https://localhost:8080/"
        },
        "id": "hOYJiG_Xp59T",
        "outputId": "3b9a7534-50d3-4214-858e-b04241d32013"
      },
      "execution_count": 129,
      "outputs": [
        {
          "output_type": "execute_result",
          "data": {
            "text/plain": [
              "17"
            ]
          },
          "metadata": {},
          "execution_count": 129
        }
      ]
    },
    {
      "cell_type": "code",
      "source": [
        "myfile=open(\"a.txt\",\"r\")\n",
        "print(myfile.read())"
      ],
      "metadata": {
        "colab": {
          "base_uri": "https://localhost:8080/"
        },
        "id": "LBX23vJFqP8J",
        "outputId": "1b5a5303-8913-4a73-f73b-2eaddbf1bddd"
      },
      "execution_count": 130,
      "outputs": [
        {
          "output_type": "stream",
          "name": "stdout",
          "text": [
            "This is no ur life \n",
            "This is my life \n",
            "This is my life \n",
            "This is my life \n",
            "This is my life \n",
            "This is my life \n",
            "\n"
          ]
        }
      ]
    },
    {
      "cell_type": "code",
      "source": [
        "#Context Manager\n",
        "with open(\"a.txt\",\"r\") as file1:\n",
        "  print(file1.read())"
      ],
      "metadata": {
        "colab": {
          "base_uri": "https://localhost:8080/"
        },
        "id": "-hSCXxZ2t-Ro",
        "outputId": "e21b9d91-ac0d-4d82-c849-9bd70254d31d"
      },
      "execution_count": 132,
      "outputs": [
        {
          "output_type": "stream",
          "name": "stdout",
          "text": [
            "This is no ur life \n",
            "This is my life \n",
            "This is my life \n",
            "This is my life \n",
            "This is my life \n",
            "This is my life \n",
            "This is my life \n",
            "\n"
          ]
        }
      ]
    },
    {
      "cell_type": "code",
      "source": [
        " print(file1.read())\n",
        "# file1 is closed automatically"
      ],
      "metadata": {
        "colab": {
          "base_uri": "https://localhost:8080/",
          "height": 182
        },
        "id": "KebNZHS2vO3U",
        "outputId": "050089fa-9d29-4599-db2b-e03708d322df"
      },
      "execution_count": 134,
      "outputs": [
        {
          "output_type": "error",
          "ename": "ValueError",
          "evalue": "ignored",
          "traceback": [
            "\u001b[0;31m---------------------------------------------------------------------------\u001b[0m",
            "\u001b[0;31mValueError\u001b[0m                                Traceback (most recent call last)",
            "\u001b[0;32m<ipython-input-134-96cbd361354c>\u001b[0m in \u001b[0;36m<module>\u001b[0;34m\u001b[0m\n\u001b[0;32m----> 1\u001b[0;31m \u001b[0mprint\u001b[0m\u001b[0;34m(\u001b[0m\u001b[0mfile1\u001b[0m\u001b[0;34m.\u001b[0m\u001b[0mread\u001b[0m\u001b[0;34m(\u001b[0m\u001b[0;34m)\u001b[0m\u001b[0;34m)\u001b[0m\u001b[0;34m\u001b[0m\u001b[0;34m\u001b[0m\u001b[0m\n\u001b[0m\u001b[1;32m      2\u001b[0m \u001b[0;31m# file1 is closed automatically\u001b[0m\u001b[0;34m\u001b[0m\u001b[0;34m\u001b[0m\u001b[0;34m\u001b[0m\u001b[0m\n",
            "\u001b[0;31mValueError\u001b[0m: I/O operation on closed file."
          ]
        }
      ]
    },
    {
      "cell_type": "code",
      "source": [
        "#String formating\n",
        "#% operrator\n",
        "#.format()\n",
        "#fstring\n",
        "#string template calss"
      ],
      "metadata": {
        "id": "5vc5kJW9vb9j"
      },
      "execution_count": 135,
      "outputs": []
    },
    {
      "cell_type": "code",
      "source": [
        "#1.  operator\n",
        "print(\"Hellow %s all %s\" % (\"welcome to each and every\\n\",\"wish u\"))"
      ],
      "metadata": {
        "colab": {
          "base_uri": "https://localhost:8080/"
        },
        "id": "1YX-BO7-xinK",
        "outputId": "fde4dc30-f0fd-479c-ddaa-032432ac1308"
      },
      "execution_count": 143,
      "outputs": [
        {
          "output_type": "stream",
          "name": "stdout",
          "text": [
            "Hellow welcome to each and every\n",
            " all wish u\n"
          ]
        }
      ]
    },
    {
      "cell_type": "code",
      "source": [
        "#2\n",
        "print(\"Hellow {0} all {0}\" .format (\"welcome to each and every\\n\",\"wish u\"))"
      ],
      "metadata": {
        "colab": {
          "base_uri": "https://localhost:8080/"
        },
        "id": "JDJvj0-e0nvS",
        "outputId": "be2da767-263d-4ae6-f686-f9fd79b671f5"
      },
      "execution_count": 147,
      "outputs": [
        {
          "output_type": "stream",
          "name": "stdout",
          "text": [
            "Hellow welcome to each and every\n",
            " all welcome to each and every\n",
            "\n"
          ]
        }
      ]
    },
    {
      "cell_type": "code",
      "source": [
        "#3\n",
        "A =int(input(\"n1=\"))\n",
        "B =int(input(\"n2=\"))\n",
        "print(f\"sum =\",A+B)"
      ],
      "metadata": {
        "colab": {
          "base_uri": "https://localhost:8080/"
        },
        "id": "5PDBFwaT164D",
        "outputId": "1baa7451-2a49-4389-d5b5-2456629a723e"
      },
      "execution_count": 151,
      "outputs": [
        {
          "output_type": "stream",
          "name": "stdout",
          "text": [
            "n1=4\n",
            "n2=8\n",
            "sum = 12\n"
          ]
        }
      ]
    }
  ]
}